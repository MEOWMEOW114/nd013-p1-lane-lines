{
 "cells": [
  {
   "cell_type": "markdown",
   "metadata": {},
   "source": [
    "# **Finding Lane Lines on the Road** \n",
    "\n",
    "## Report\n",
    "\n",
    "---\n",
    "\n",
    "**Finding Lane Lines on the Road**\n",
    "\n",
    "The goals / steps of this project are the following:\n",
    "* Make a pipeline that finds lane lines on the road\n",
    "* Reflect on your work in a written report\n"
   ]
  },
  {
   "cell_type": "markdown",
   "metadata": {},
   "source": [
    "## Reflection 1. Describe your pipeline. As part of the description, explain how you modified the draw_lines() function.\n",
    "\n",
    "My pipeline consisted of 5 steps. First, I only keep the white and yellow pixels of the image. Then, I converted the images to grayscale, then I applied Gaussian smoothing. Then I applied Canny Edges. And final steps is to filter based on region of interest. In current project, the region of interest can be roughly assumed as trapezium shape I.e. the road. \n",
    "\n",
    "In order to draw a single line on the left and right lanes, I modified the draw_lines() function by finding the slope of left and right lanes.\n",
    "For each line in the input, slope greater than zero is for left lane while slope smaller than zero is for right lane.\n",
    "For each lane(left and right), I use polyfit() from numpy to perform curve fitting to find the slope and b values in  # y = m*x + b.\n",
    "\n",
    "## Reflection 2. Identify potential shortcomings with your current pipeline \n",
    "\n",
    "One potential shorting coming would be what would happen when the number of 'valid' lines input is insufficient to draw a proper lane lines.\n",
    "\n",
    "## Reflection 3 . Suggest possible improvements to your pipeline \n",
    "\n",
    "possible improvement could be using a better slope_threshold value and not drawing the lane lines if the number of valid input is not passing certain threshold value."
   ]
  },
  {
   "cell_type": "code",
   "execution_count": null,
   "metadata": {
    "collapsed": true
   },
   "outputs": [],
   "source": []
  }
 ],
 "metadata": {
  "kernelspec": {
   "display_name": "Python 3",
   "language": "python",
   "name": "python3"
  },
  "language_info": {
   "codemirror_mode": {
    "name": "ipython",
    "version": 3
   },
   "file_extension": ".py",
   "mimetype": "text/x-python",
   "name": "python",
   "nbconvert_exporter": "python",
   "pygments_lexer": "ipython3",
   "version": "3.5.2"
  },
  "widgets": {
   "state": {},
   "version": "1.1.2"
  }
 },
 "nbformat": 4,
 "nbformat_minor": 2
}
